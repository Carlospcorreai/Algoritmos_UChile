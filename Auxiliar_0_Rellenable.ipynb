{
  "nbformat": 4,
  "nbformat_minor": 0,
  "metadata": {
    "colab": {
      "provenance": [],
      "include_colab_link": true
    },
    "kernelspec": {
      "name": "python3",
      "display_name": "Python 3"
    },
    "language_info": {
      "name": "python"
    }
  },
  "cells": [
    {
      "cell_type": "markdown",
      "metadata": {
        "id": "view-in-github",
        "colab_type": "text"
      },
      "source": [
        "<a href=\"https://colab.research.google.com/github/Carlospcorreai/Algoritmos_UChile/blob/main/Auxiliar_0_Rellenable.ipynb\" target=\"_parent\"><img src=\"https://colab.research.google.com/assets/colab-badge.svg\" alt=\"Open In Colab\"/></a>"
      ]
    },
    {
      "cell_type": "markdown",
      "source": [
        "# Auxiliar 0: Recuerdo de Python y Google Colab\n",
        "\n",
        "**Auxiliares: Valentina Alarcón, Javier Contreras, Cristián Llull, Antonia Del Castillo<br>\n",
        "Profesores: Nelson Baloian, Valentina Aravena, Patricio Poblete<br>\n",
        "Curso: CC3001 Algoritmos y Estructuras de Datos**\n",
        "\n"
      ],
      "metadata": {
        "id": "92NDVBQ4xAj3"
      }
    },
    {
      "cell_type": "markdown",
      "source": [
        "# Pregunta 1: Introducción a Google Colab\n",
        "\n",
        "Google Colab o \"Colaboratory\" es un entorno virtual para ejecutar Notebooks de Python. Este entorno es muy sencillo de utilizar y permite el acceso a GPU adicional a la del computador de manera gratuita, además de se pueden compartir archivos de manera muy sencilla.\n",
        "\n",
        "A continuación veremos algunos de los atributos básicos de los *notebooks* de Python."
      ],
      "metadata": {
        "id": "07ObVeX552Go"
      }
    },
    {
      "cell_type": "markdown",
      "source": [
        "## Celdas de texto\n",
        "\n",
        "En un notebook de Python existen esencialmente dos tipos de celda: las de código y las de texto (Markdown). Esta es una celda de texto y existen múltiples cosas que se pueden hacer en ellas.\n",
        "\n",
        "* Se pueden colocar títulos, subtítulos, subsubtítulos, etc. Para conseguirlo basta con agregar símbolos \"#\" al inicio de la frase (ver este bloque de texto). Estos títulos y sus subsecuentes subtítulos (hasta seis \"#\") se pueden anidar y crear un índice, que se puede revisar al costado izquierdo, haciendo click en el símbolo de tres líneas arriba de la lupa.\n",
        "\n",
        "* Se puede escribir texto normal, *en cursiva*, **en negrita** o en formato `código`.\n",
        "\n",
        "* También se puede escribir en $\\LaTeX$, ya sea dentro de una misma línea $f(x) = 3^x$, como también ecuaciones centradas:\n",
        "\n",
        "$$\n",
        "\\sum_{i=1}^{n} i^2 = \\frac{n(n+1)(2n+1)}{6}\n",
        "$$\n",
        "\n",
        "* También se pueden crear listados como este, donde están las indicaciones para crear notebooks y compartirlos:\n",
        "\n",
        "  1. Para crear un notebook nuevo: *Archivo>Nuevo Cuaderno*\n",
        "\n",
        "  2. Para guardar una copia de otro notebook en su cuenta de Google Drive/Github:  *Archivo>Guardar una copia en Drive/Github*\n",
        "\n",
        "  3. Para compartir el notebook:\n",
        "    - Ir a *Compartir*\n",
        "    - En la sección que dice *Acceso general* cambiar a *Cualquier persona con el enlace*\n",
        "    - Luego seleccionar el tipo de permiso o rol (Lector, Comentador, Editor)\n",
        "    - Finalmente hacer click en *Copiar enlace*\n",
        "\n",
        "  4. Para descargar un notebook en formato `.ipynb` (*Interactive Python Notebook*): *Archivo>Descargar>Descargar .ipynb*\n",
        "\n",
        "  > **Nota**: Cuando entreguen sus ejercicios o tareas, DEBEN entregar el descargable en formato `.ipynb`."
      ],
      "metadata": {
        "id": "L-FLgvy5D6fn"
      }
    },
    {
      "cell_type": "markdown",
      "source": [
        "## Celdas de código\n",
        "\n",
        "En lo que sigue, comenzaremos a programar utilizando las celdas de código. Una de las características principales de programar en Colab (o cualquier otro entorno que utilice notebooks de Python) es que cada celda debe funcionar de manera independiente y debemos correrlas separadamente.\n",
        "\n",
        "Veamos cómo funcionan estas celdas de código, resolviendo los problemas del enunciado auxiliar."
      ],
      "metadata": {
        "id": "1bDJ6qmr7fBH"
      }
    },
    {
      "cell_type": "code",
      "execution_count": 1,
      "metadata": {
        "id": "ULfWhDeY5Zsd",
        "colab": {
          "base_uri": "https://localhost:8080/"
        },
        "outputId": "a1d9d299-8809-4565-883e-185debc24bed"
      },
      "outputs": [
        {
          "output_type": "stream",
          "name": "stdout",
          "text": [
            "Hola mundo\n"
          ]
        }
      ],
      "source": [
        "print(\"Hola mundo\")"
      ]
    },
    {
      "cell_type": "markdown",
      "source": [
        "# Pregunta 2: Numpy\n",
        "\n",
        " El objetivo de esta pregunta es familiarizarnos con la estructura de datos Numpy la cual utilizaremos en remplazo a las listas de Python. A diferencia de estas últimas, Numpy permite controlar el uso de memoria y los recorridos a través de esta de manera eficiente.\n",
        "\n",
        " Por lo tanto, esta pregunta consiste de problemas cortos utilizando esta estructura.\n",
        "\n",
        "  + Crear un arreglo de enteros tamaño 10 que solo contenga ceros.\n",
        "  + Itere por el arreglo escribiendo los números del 0 al 9.\n",
        "  + Multiplique cada uno de los elementos del arreglo por 3.\n",
        "  + En el arreglo, reemplace los números pares por 0 y los impares por 1.\n",
        "  + Cree una matriz de 3x3 que solo contenga la letra 'a' e imprima la matriz.\n",
        "  + *Propuesto:* Modifique la matriz de forma que la primera fila de esta tenga solo el caracter 'a', la segunda fila tenga 'aa' y la tercera 'aaa'-\n",
        "\n",
        "  ![image.png](data:image/png;base64,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)"
      ],
      "metadata": {
        "id": "9ZGdtBQ2_HtB"
      }
    },
    {
      "cell_type": "code",
      "source": [
        "#Importen la(s) librería(s) de interés\n",
        "import numpy as np"
      ],
      "metadata": {
        "id": "Rit5f75H_qyW"
      },
      "execution_count": 2,
      "outputs": []
    },
    {
      "cell_type": "markdown",
      "source": [
        "Crear un arreglo de enteros tamaño 10 que solo contenga ceros:"
      ],
      "metadata": {
        "id": "vh_-5jdQ_n4u"
      }
    },
    {
      "cell_type": "code",
      "execution_count": 3,
      "metadata": {
        "id": "Z8YORPgZ-zVn",
        "colab": {
          "base_uri": "https://localhost:8080/"
        },
        "outputId": "b530ccbb-c76c-4534-fb5f-6db9b41bedec"
      },
      "outputs": [
        {
          "output_type": "stream",
          "name": "stdout",
          "text": [
            "[0. 0. 0. 0. 0. 0. 0. 0. 0. 0.]\n"
          ]
        }
      ],
      "source": [
        "#Creen aquí su arreglo\n",
        "arreglo = np.zeros(10)\n",
        "print(arreglo)\n",
        "\n",
        "arreglo2 = np.ndarray((1,2),dtype=int)\n",
        "print()"
      ]
    },
    {
      "cell_type": "markdown",
      "source": [
        "Itere por el arreglo escribiendo los números del 0 al 9:"
      ],
      "metadata": {
        "id": "br26V14l_yv9"
      }
    },
    {
      "cell_type": "code",
      "source": [
        "#Realice la iteración correspondiente\n",
        "for i in range(len(arreglo)):\n",
        "  arreglo[i] = i\n",
        "\n",
        "print(arreglo)\n"
      ],
      "metadata": {
        "id": "p5AMoQ_z_6N9",
        "colab": {
          "base_uri": "https://localhost:8080/"
        },
        "outputId": "3a9a491d-47f7-4b2c-a445-4116360ab2ea"
      },
      "execution_count": 12,
      "outputs": [
        {
          "output_type": "stream",
          "name": "stdout",
          "text": [
            "[0. 1. 2. 3. 4. 5. 6. 7. 8. 9.]\n"
          ]
        }
      ]
    },
    {
      "cell_type": "markdown",
      "source": [
        "Multiplique cada uno de los elementos del arreglo por 3:"
      ],
      "metadata": {
        "id": "VbLvH-Ut_8u9"
      }
    },
    {
      "cell_type": "code",
      "source": [
        "#Realice la multiplicación de modo que afecte a todos los elementos del arreglo\n",
        "# Forma no optima\n",
        "#for i in range(len(arreglo)):\n",
        "#  arreglo[i] = 3 * arreglo[i]\n",
        "\n",
        "#print(arreglo)\n",
        "\n",
        "# Forma Optima\n",
        "arreglo = arreglo * 3\n",
        "print(arreglo)\n",
        "\n",
        "\n"
      ],
      "metadata": {
        "id": "MavntvIaABC_",
        "colab": {
          "base_uri": "https://localhost:8080/"
        },
        "outputId": "4c2f3d76-5789-489b-9de4-f2fb7a3de73d"
      },
      "execution_count": 13,
      "outputs": [
        {
          "output_type": "stream",
          "name": "stdout",
          "text": [
            "[ 0.  3.  6.  9. 12. 15. 18. 21. 24. 27.]\n"
          ]
        }
      ]
    },
    {
      "cell_type": "markdown",
      "source": [
        "En el arreglo, remplace los números pares por 0 y los impares por 1:"
      ],
      "metadata": {
        "id": "Tyn4MxMpBYT9"
      }
    },
    {
      "cell_type": "code",
      "source": [
        "# Forma optima\n",
        "#arreglo = arreglo % 2\n",
        "#print(arreglo)\n",
        "\n",
        "# Forma optima 2\n",
        "arreglo = arreglo - 2 * (arreglo // 2)\n",
        "print(arreglo)"
      ],
      "metadata": {
        "colab": {
          "base_uri": "https://localhost:8080/"
        },
        "id": "kCk00uPEC4YI",
        "outputId": "201fa071-e4fb-4ac4-9fc7-5f07edfa6e13"
      },
      "execution_count": 14,
      "outputs": [
        {
          "output_type": "stream",
          "name": "stdout",
          "text": [
            "[0. 1. 0. 1. 0. 1. 0. 1. 0. 1.]\n"
          ]
        }
      ]
    },
    {
      "cell_type": "code",
      "source": [
        "# Forma No optima\n",
        "#Reemplace los número aquí\n",
        "\n",
        "for i in range(len(arreglo)):\n",
        "  if arreglo[i] % 2 == 0:\n",
        "    arreglo[i] = 0\n",
        "  else:\n",
        "    arreglo[i] == 1\n",
        "\n",
        "print(arreglo)\n"
      ],
      "metadata": {
        "id": "HwlFZaWlBbvw",
        "colab": {
          "base_uri": "https://localhost:8080/"
        },
        "outputId": "ea373930-7f2b-4bdf-9a25-da1113a8e899"
      },
      "execution_count": 11,
      "outputs": [
        {
          "output_type": "stream",
          "name": "stdout",
          "text": [
            "[ 0.  3.  0.  9.  0. 15.  0. 21.  0. 27.]\n"
          ]
        }
      ]
    },
    {
      "cell_type": "markdown",
      "source": [
        "Cree una matriz de 3x3 que solo contenga la letra \"a\" e imprima la matriz:"
      ],
      "metadata": {
        "id": "y3Tw6om8AGSt"
      }
    },
    {
      "cell_type": "code",
      "source": [
        "#Cree la matriz 3x3 y experimente cambiando los 3 por otros valores\n",
        "matriz = np.full((3,3),'a')\n",
        "print(matriz)\n"
      ],
      "metadata": {
        "id": "TTeze07AAHlF",
        "colab": {
          "base_uri": "https://localhost:8080/"
        },
        "outputId": "0383e18d-fa6d-49be-94d2-2fb360ff7b06"
      },
      "execution_count": 16,
      "outputs": [
        {
          "output_type": "stream",
          "name": "stdout",
          "text": [
            "[['a' 'a' 'a']\n",
            " ['a' 'a' 'a']\n",
            " ['a' 'a' 'a']]\n"
          ]
        }
      ]
    },
    {
      "cell_type": "code",
      "source": [],
      "metadata": {
        "id": "UTsm-8LMDxNB"
      },
      "execution_count": null,
      "outputs": []
    },
    {
      "cell_type": "code",
      "source": [],
      "metadata": {
        "id": "Pr6qlliNDwv4"
      },
      "execution_count": null,
      "outputs": []
    },
    {
      "cell_type": "markdown",
      "source": [
        "_Propuesto_: Modifique la matriz de forma que la primera fila de ésta tenga solo el caracter \"a\", la segunda fila tenga \"aa\" y la tercera \"aaa\"."
      ],
      "metadata": {
        "id": "wI4XqYtuG97F"
      }
    },
    {
      "cell_type": "code",
      "source": [
        "#Realice su propuesto aquí\n",
        "\n"
      ],
      "metadata": {
        "id": "-IGXESYqLEM4"
      },
      "execution_count": null,
      "outputs": []
    },
    {
      "cell_type": "markdown",
      "source": [
        "# Pregunta 3: Invariante\n",
        "\n",
        "Dado un string, diseñe un algoritmo iterativo que determine si este es palíndromo. Un string es palíndromo si se lee igual al revés y al derecho.\n",
        "\n",
        "```py\n",
        "    esPalindromo(\"Oshawott\")\n",
        "    False\n",
        "    esPalindromo(\"Eevee\")\n",
        "    True\n",
        "    esPalindromo(\"Ho Oh\")\n",
        "    True\n",
        "    esPalindromo(\"Alomomolaa\")\n",
        "    False\n",
        "```\n",
        "\n"
      ],
      "metadata": {
        "id": "EQUFG1F8ZX7K"
      }
    },
    {
      "cell_type": "code",
      "source": [
        " # Invariante => (i = j), (i + 1 = j - 1), (i + 2 = j - 2)\n",
        "def esPalindromo(a):\n",
        "  for i in range(len(a)):\n",
        "    if a[i] == a[len(a)-1]:\n",
        "      True\n",
        "\n"
      ],
      "metadata": {
        "id": "JJVGC3KoFjlL"
      },
      "execution_count": null,
      "outputs": []
    },
    {
      "cell_type": "markdown",
      "source": [],
      "metadata": {
        "id": "-6_C8C2sFF21"
      }
    },
    {
      "cell_type": "markdown",
      "source": [
        "\n",
        "Un invariante es una afirmación lógica que debe ser verdadera cada vez que se intenta iniciar una nueva iteración, lo cual incluye tanto la primera vez como el último intento, en que se detecta que el rango ya se ha agotado y el ciclo termina.\n",
        "\n",
        "Invariante\n",
        "\n",
        "Supongamos largo de string n. Usar dos variables i, j. El índice i indica posición en el string partiendo de la izquierda, y el índice j indica posición en el string partiendo de la derecha hacia atrás.  \n",
        "\n",
        "* Sea $i < j$, substring $s[0...i - 1]$ es el inverso de substring $s[j + 1...n − 1]$\n",
        "\n",
        "Condiciones iniciales\n",
        "\n",
        "* $i = 0$, $j = n − 1$ (el substring izquierdo es vacío y por lo tanto es el inverso del substring derecho que también es vacío).\n",
        "\n",
        "Condiciones de término\n",
        "\n",
        "*  $i = j$ (hay un sólo carácter en la mitad del string y el substring anterior es inverso al substring posterior, por lo tanto el string es palíndrome)\n",
        "\n",
        "* i > j (ya se compararon todos los caracteres hasta la mitad, por lo tanto el string es palíndromo)\n",
        "\n",
        "\n",
        "\n"
      ],
      "metadata": {
        "id": "uhsvSQh6d7tg"
      }
    },
    {
      "cell_type": "code",
      "source": [
        "#Complete aquí su función esPalindromo\n",
        "def esPalindromo(s=\"\"):\n",
        "  s = s.replace(\" \",\"\").lower() # Limpieza\n",
        "  i = 0\n",
        "  j = len(s) - 1\n",
        "  while i < j:\n",
        "    if s[i] != s[j]:\n",
        "      return False\n",
        "    else:\n",
        "      i = i + 1\n",
        "      j = j - 1\n",
        "  return True"
      ],
      "metadata": {
        "id": "QY25T9vWmMn0"
      },
      "execution_count": 28,
      "outputs": []
    },
    {
      "cell_type": "code",
      "source": [
        "assert not esPalindromo(\"Oshawott\")\n",
        "assert esPalindromo(\"Eevee\")\n",
        "assert esPalindromo(\"Ho Oh\")\n",
        "assert not esPalindromo(\"Alomomolaa\")\n",
        "assert esPalindromo(\"Llull\")\n",
        "print(\"Logrado !!\")"
      ],
      "metadata": {
        "id": "-p2maFH2byoa",
        "colab": {
          "base_uri": "https://localhost:8080/"
        },
        "outputId": "16dc8b2c-de64-4892-88cb-d719ee5d5730"
      },
      "execution_count": 29,
      "outputs": [
        {
          "output_type": "stream",
          "name": "stdout",
          "text": [
            "Logrado !!\n"
          ]
        }
      ]
    },
    {
      "cell_type": "markdown",
      "source": [
        "# Pregunta 4: Bandera Holandesa"
      ],
      "metadata": {
        "id": "YHFoE4VNzt1z"
      }
    },
    {
      "cell_type": "markdown",
      "source": [
        "###a) Analice los posibles invariantes del problema y dibújelos\n"
      ],
      "metadata": {
        "id": "skcJ-DQFzz7L"
      }
    },
    {
      "cell_type": "markdown",
      "source": [
        "_Pueden subir su dibujo directamente al colab, si así lo prefieren_\n",
        "\n",
        "\n"
      ],
      "metadata": {
        "id": "TKS5L40Tz2ds"
      }
    },
    {
      "cell_type": "markdown",
      "source": [
        "### b) Programe la solución al problema siguiendo alguno de los invariantes de la parte __a)__:"
      ],
      "metadata": {
        "id": "hp5XYQJuz5uU"
      }
    },
    {
      "cell_type": "code",
      "source": [
        "def ordenarBandera(arr):\n",
        "  i = 0\n",
        "  j = 0\n",
        "  k = len(arr) - 1\n",
        "\n",
        "  while (j <= k ):\n",
        "    elem = arr[j]\n",
        "    if elem == 0:\n",
        "      arr[i],arr[j] = arr[j], arr[i]\n",
        "      i = i + 1\n",
        "      j = j + 1\n",
        "    elif elem == 1:\n",
        "      j = j + 1\n",
        "    elif elem == 2:\n",
        "      arr[j],arr[k] = arr[k], arr[j]\n",
        "      k = k - 1\n",
        "  return arr"
      ],
      "metadata": {
        "id": "wfxxoFfDz-qE"
      },
      "execution_count": 37,
      "outputs": []
    },
    {
      "cell_type": "code",
      "source": [
        "#Veamos un ejemplo:\n",
        "arr = np.array([0, 1, 1, 0, 1, 2, 1, 2, 0, 0, 0, 1])\n",
        "ordenados = ordenarBandera(arr)\n",
        "print(ordenados)"
      ],
      "metadata": {
        "id": "Fb3unWa1VGuu",
        "colab": {
          "base_uri": "https://localhost:8080/"
        },
        "outputId": "89eccb67-8c7a-4681-bd69-6d85ae0ea265"
      },
      "execution_count": 38,
      "outputs": [
        {
          "output_type": "stream",
          "name": "stdout",
          "text": [
            "[0 0 0 0 0 1 1 1 1 1 2 2]\n"
          ]
        }
      ]
    }
  ]
}