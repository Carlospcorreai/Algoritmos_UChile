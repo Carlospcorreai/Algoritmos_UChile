{
  "nbformat": 4,
  "nbformat_minor": 0,
  "metadata": {
    "colab": {
      "provenance": [],
      "include_colab_link": true
    },
    "kernelspec": {
      "name": "python3",
      "display_name": "Python 3"
    },
    "language_info": {
      "name": "python"
    }
  },
  "cells": [
    {
      "cell_type": "markdown",
      "metadata": {
        "id": "view-in-github",
        "colab_type": "text"
      },
      "source": [
        "<a href=\"https://colab.research.google.com/github/Carlospcorreai/Algoritmos_UChile/blob/main/CC3001_2025_2_Tarea_1.ipynb\" target=\"_parent\"><img src=\"https://colab.research.google.com/assets/colab-badge.svg\" alt=\"Open In Colab\"/></a>"
      ]
    },
    {
      "cell_type": "markdown",
      "source": [
        "# CC3001 Primavera 2025 Tarea 1 [Escriba su nombre aquí]\n",
        "\n",
        "## WORDLE\n",
        "\n",
        "### Profesores\n",
        "\n",
        "Sección 1 Patricio Poblete •\n",
        "Sección 2 Valentina Aravena / Nelson Baloian\n",
        "\n",
        "El puzzle WORDLE consiste en adivinar una palabra oculta de cinco caracteres en a lo más seis intentos. Cada vez que uno propone una palabra como posible solución, el juego evalúa si la palabra es la correcta. Si no es correcta, entonces el juego nos entrega información que nos permite adivinar mejor la palabra oculta. Esta información viene de tres formas:\n",
        "\n",
        "\n",
        "*   Cuando una letra de la palabra propuesta se encuentra en la posición correcta, la letra se marca en color verde.\n",
        "*   Cuando una letra de la palabra propuesta sí se encuentra en la palabra oculta, pero no está en la posición correcta, la letra se marca en color amarillo.\n",
        "*   Cuando una letra de la palabra propuesta no se encuentra en la palabra oculta, la letra se marca en color gris.\n",
        "\n",
        "\n",
        "La imagen a continuación muestra los tres posibles estados para las letras de una potencial palabra propuesta.\n",
        "\n",
        "![](https://ivan-sipiran.com/downloads/wordle.png)\n",
        "\n",
        "A medida que se avanza en el juego, se va mostrando un cuadro que muestra la secuencia de intentos efectuados hasta el momento, con los colores respectivos. El siguiente ejemplo muestra cómo se vería al intentar con las palabras \"POMAR\", \"TRAGO\", \"GRAMO\" y \"GRAFO\", donde esta última era la palabra oculta:\n",
        "\n",
        "<img src=\"https://www.dcc.uchile.cl/ppoblete/cc3001/Wordle1.png\" alt=\"Wordle1\" width=\"150\"/>\n",
        "\n",
        "<img src=\"https://www.dcc.uchile.cl/ppoblete/cc3001/Wordle2.png\" alt=\"Wordle2\" width=\"150\"/>\n",
        "\n",
        "<img src=\"https://www.dcc.uchile.cl/ppoblete/cc3001/Wordle3.png\" alt=\"Wordle3\" width=\"150\"/>\n",
        "\n",
        "<img src=\"https://www.dcc.uchile.cl/ppoblete/cc3001/Wordle4.png\" alt=\"Wordle4\" width=\"150\"/>\n",
        "\n",
        "\n",
        "\n",
        "\n",
        "\n",
        "\n",
        "\n",
        "\n",
        "\n"
      ],
      "metadata": {
        "id": "deCM246B_yVT"
      }
    },
    {
      "cell_type": "markdown",
      "source": [
        "# Enunciado\n",
        "\n",
        "En esta tarea usted debe escribir y probar un programa que implemente un juego de WORDLE. El programa debe permitirle al usuario ingresar un máximo de 6 intentos para adivinar una palabra oculta, mostrando paso a paso cuadros similares a los vistos en el punto anterior.\n",
        "\n",
        "Para implementar este programa, nosotros le haremos entrega de un código base el cual hay que modificar para que el juego funcione.\n",
        "\n",
        "Lo primero que haremos es cargar dos conjuntos de palabras de cinco caracteres. Uno, el más grande, son las palabras que se pueden utilizar para los intentos; el otro, un subconjunto más pequeño del anterior, son las que se puedes utilizar como la palabra oculta:"
      ],
      "metadata": {
        "id": "ZYDt_cQeNzca"
      }
    },
    {
      "cell_type": "code",
      "execution_count": null,
      "metadata": {
        "id": "-juF0lDH_vm9",
        "colab": {
          "base_uri": "https://localhost:8080/"
        },
        "outputId": "b4748abc-d4c3-4e3c-a98e-b17356f43183"
      },
      "outputs": [
        {
          "output_type": "stream",
          "name": "stdout",
          "text": [
            "/resources/data/palabras5letras.txt: Scheme missing.\n",
            "--2025-08-08 18:36:46--  https://dcc.uchile.cl/nbaloian/cc3001/palabras5letras.txt\n",
            "Resolving dcc.uchile.cl (dcc.uchile.cl)... 192.80.24.11\n",
            "Connecting to dcc.uchile.cl (dcc.uchile.cl)|192.80.24.11|:443... connected.\n",
            "HTTP request sent, awaiting response... 302 Found\n",
            "Location: https://users.dcc.uchile.cl/~nbaloian/cc3001/palabras5letras.txt [following]\n",
            "--2025-08-08 18:36:47--  https://users.dcc.uchile.cl/~nbaloian/cc3001/palabras5letras.txt\n",
            "Resolving users.dcc.uchile.cl (users.dcc.uchile.cl)... 192.80.24.4, 200.9.99.211\n",
            "Connecting to users.dcc.uchile.cl (users.dcc.uchile.cl)|192.80.24.4|:443... connected.\n",
            "HTTP request sent, awaiting response... 200 OK\n",
            "Length: 65445 (64K) [text/plain]\n",
            "Saving to: ‘palabras5letras.txt.1’\n",
            "\n",
            "palabras5letras.txt 100%[===================>]  63.91K   301KB/s    in 0.2s    \n",
            "\n",
            "2025-08-08 18:36:48 (301 KB/s) - ‘palabras5letras.txt.1’ saved [65445/65445]\n",
            "\n",
            "FINISHED --2025-08-08 18:36:48--\n",
            "Total wall clock time: 1.4s\n",
            "Downloaded: 1 files, 64K in 0.2s (301 KB/s)\n",
            "/resources/data/palabras_posibles.txt: Scheme missing.\n",
            "--2025-08-08 18:36:48--  https://dcc.uchile.cl/nbaloian/cc3001/palabras_posibles.txt\n",
            "Resolving dcc.uchile.cl (dcc.uchile.cl)... 192.80.24.11\n",
            "Connecting to dcc.uchile.cl (dcc.uchile.cl)|192.80.24.11|:443... connected.\n",
            "HTTP request sent, awaiting response... 302 Found\n",
            "Location: https://users.dcc.uchile.cl/~nbaloian/cc3001/palabras_posibles.txt [following]\n",
            "--2025-08-08 18:36:48--  https://users.dcc.uchile.cl/~nbaloian/cc3001/palabras_posibles.txt\n",
            "Resolving users.dcc.uchile.cl (users.dcc.uchile.cl)... 192.80.24.4, 200.9.99.211\n",
            "Connecting to users.dcc.uchile.cl (users.dcc.uchile.cl)|192.80.24.4|:443... connected.\n",
            "HTTP request sent, awaiting response... 200 OK\n",
            "Length: 7451 (7.3K) [text/plain]\n",
            "Saving to: ‘palabras_posibles.txt’\n",
            "\n",
            "palabras_posibles.t 100%[===================>]   7.28K  --.-KB/s    in 0s      \n",
            "\n",
            "2025-08-08 18:36:49 (1.32 GB/s) - ‘palabras_posibles.txt’ saved [7451/7451]\n",
            "\n",
            "FINISHED --2025-08-08 18:36:49--\n",
            "Total wall clock time: 0.9s\n",
            "Downloaded: 1 files, 7.3K in 0s (1.32 GB/s)\n"
          ]
        }
      ],
      "source": [
        "!wget /resources/data/palabras5letras.txt https://dcc.uchile.cl/nbaloian/cc3001/palabras5letras.txt\n",
        "\n",
        "!wget /resources/data/palabras_posibles.txt https://dcc.uchile.cl/nbaloian/cc3001/palabras_posibles.txt\n",
        "\n",
        "def leerPals(archivo):\n",
        "  f=open(archivo,\"r\")\n",
        "  texto=f.read()\n",
        "  palabras=texto.split()\n",
        "\n",
        "  return palabras"
      ]
    },
    {
      "cell_type": "markdown",
      "source": [
        "Usando esto, leemos primero el conjunto completo de palabras y luego el subconjuntos de posibles palabras ocultas:"
      ],
      "metadata": {
        "id": "cR0PHExkZKYa"
      }
    },
    {
      "cell_type": "code",
      "source": [
        "  palabras_todas = leerPals(\"palabras5letras.txt\") #Leemos el conjunto de palabras\n",
        "  # Imprimimos una muestra\n",
        "  print(palabras_todas[0:10])\n",
        "  print(palabras_todas[-11:-1])"
      ],
      "metadata": {
        "id": "o--70HURZS6w",
        "colab": {
          "base_uri": "https://localhost:8080/"
        },
        "outputId": "704d77bf-a9d7-44b6-bb95-3d54340929ca"
      },
      "execution_count": null,
      "outputs": [
        {
          "output_type": "stream",
          "name": "stdout",
          "text": [
            "['ABABA', 'ABACA', 'ABACO', 'ABADA', 'ABADI', 'ABAJA', 'ABAJE', 'ABAJO', 'ABALA', 'ABALE']\n",
            "['ZUREE', 'ZUREO', 'ZUROS', 'ZURRA', 'ZURRE', 'ZURRI', 'ZURRO', 'ZURZA', 'ZURZO', 'ZUZAR']\n"
          ]
        }
      ]
    },
    {
      "cell_type": "code",
      "source": [
        "palabras_posibles = leerPals(\"palabras_posibles.txt\") #Leemos el conjunto de palabras\n",
        "# Imprimimos una muestra\n",
        "print(palabras_posibles[0:10])\n",
        "print(palabras_posibles[-11:-1])"
      ],
      "metadata": {
        "colab": {
          "base_uri": "https://localhost:8080/"
        },
        "id": "9v1QOQGX-bxS",
        "outputId": "6b9b17bf-f69e-47bd-9f53-5b5bd9530495"
      },
      "execution_count": null,
      "outputs": [
        {
          "output_type": "stream",
          "name": "stdout",
          "text": [
            "['ABACO', 'ABAJO', 'ABATE', 'ABEJA', 'ABETO', 'ABREN', 'ABRIA', 'ABRIO', 'ABRIR', 'ABUSO']\n",
            "['YERNO', 'YUNTA', 'ZAFAR', 'ZAMPA', 'ZANCO', 'ZEBRA', 'ZONAS', 'ZORRA', 'ZUMBA', 'ZURDO']\n"
          ]
        }
      ]
    },
    {
      "cell_type": "markdown",
      "source": [
        "Usted tiene que escribir una función ``clasifica(guess,enigma)`` que haga la clasificación de los caracteres de una palabra propuesta de acuerdo a las reglas presentadas anteriormente. Para representar los colores usamos letras:\n",
        "\n",
        "* *v* si el caracter está en la posición correcta (color verde)\n",
        "* *a* si el caracter está en el string pero en la posición incorrecta (color amarillo)\n",
        "* *g* si el caracter no está en el string oculto (color gris)\n",
        "\n",
        "Por ejemplo, al llamar ``clasifica(\"TRAGO\",\"GRAFO\")``, debe retornar \"gvvav\".\n",
        "\n"
      ],
      "metadata": {
        "id": "xHymnDHfPX8n"
      }
    },
    {
      "cell_type": "code",
      "source": [
        "def clasifica(guess,enigma): # arma un string con v's, a's y g's\n",
        "    # Escriba aquí el código para generar en la variable 'res'\n",
        "    # el string respectivo de letras a, g, v\n",
        "    res = 'vagav'#esto es por mientras\n",
        "    return res"
      ],
      "metadata": {
        "id": "A3Z_2jMIPmPk"
      },
      "execution_count": null,
      "outputs": []
    },
    {
      "cell_type": "markdown",
      "source": [
        "Para visualizar el string con los colores respectivos, usted puede usar la siguiente función, que se entrega aquí con un ejemplo de uso:"
      ],
      "metadata": {
        "id": "mZBhwMiWuuZW"
      }
    },
    {
      "cell_type": "code",
      "source": [
        "!pip install colorama\n",
        "\n",
        "import colorama\n",
        "from colorama import Fore, Back, Style\n",
        "\n",
        "def colorear(word, colors):\n",
        "  assert len(word)==len(colors) and len(word)==5\n",
        "  final_word = Fore.BLACK\n",
        "  for i in range(len(word)):\n",
        "    if colors[i]==\"v\":\n",
        "      final_word += Back.LIGHTGREEN_EX+word[i]\n",
        "    elif colors[i]==\"a\":\n",
        "      final_word += Back.LIGHTYELLOW_EX+word[i]\n",
        "    else:\n",
        "      final_word += Back.LIGHTBLACK_EX+word[i]\n",
        "  return final_word"
      ],
      "metadata": {
        "colab": {
          "base_uri": "https://localhost:8080/"
        },
        "id": "yTQjirVuu5-H",
        "outputId": "196177bb-1f82-485d-a36b-2117a846d910"
      },
      "execution_count": null,
      "outputs": [
        {
          "output_type": "stream",
          "name": "stdout",
          "text": [
            "Collecting colorama\n",
            "  Downloading colorama-0.4.6-py2.py3-none-any.whl.metadata (17 kB)\n",
            "Downloading colorama-0.4.6-py2.py3-none-any.whl (25 kB)\n",
            "Installing collected packages: colorama\n",
            "Successfully installed colorama-0.4.6\n"
          ]
        }
      ]
    },
    {
      "cell_type": "markdown",
      "source": [
        "Ejemplo de uso:"
      ],
      "metadata": {
        "id": "tngMgHE1vT8D"
      }
    },
    {
      "cell_type": "code",
      "source": [
        "print(colorear(\"TRAGO\",\"gvvav\"))"
      ],
      "metadata": {
        "colab": {
          "base_uri": "https://localhost:8080/"
        },
        "id": "7faO4sFgvWoi",
        "outputId": "977c617f-8da8-438a-8c1b-3f9d217d5118"
      },
      "execution_count": null,
      "outputs": [
        {
          "output_type": "stream",
          "name": "stdout",
          "text": [
            "\u001b[30m\u001b[100mT\u001b[102mR\u001b[102mA\u001b[103mG\u001b[102mO\n"
          ]
        }
      ]
    },
    {
      "cell_type": "markdown",
      "source": [
        "Pruebe ahora con la función clasifica que acaba de implementar. El resultado debería ser el mismo:"
      ],
      "metadata": {
        "id": "l0DJ_sZ1wlI2"
      }
    },
    {
      "cell_type": "code",
      "source": [
        "print(colorear(\"TRAGO\",clasifica(\"TRAGO\",\"GRAFO\")))"
      ],
      "metadata": {
        "id": "q0j88Ftywsdf",
        "colab": {
          "base_uri": "https://localhost:8080/"
        },
        "outputId": "2605f290-c27d-429d-999f-d1418c3831f6"
      },
      "execution_count": null,
      "outputs": [
        {
          "output_type": "stream",
          "name": "stdout",
          "text": [
            "\u001b[30m\u001b[102mT\u001b[103mR\u001b[100mA\u001b[103mG\u001b[102mO\n"
          ]
        }
      ]
    },
    {
      "cell_type": "markdown",
      "source": [
        "Inicialmente, el conjunto de palabras que podrían ser solución son todas las palabras en la lista ``palabras_todas``.\n",
        "Luego, con cada intento del usuario, ese conjunto va disminuyendo al eliminarse las palabras que no podrían ser solución. Los intentos del usuario deben ser palabras de esta lista. Si se intenta con una palabra fuera de la lista, se rechaza el intento y se le pide al usuario que proponga otra palabra, sin que eso le quite intentos restantes.\n",
        "\n",
        "Como parte de la tarea, usted debe implementar una función que reciba una lista de palabras, la palabra propuesta en el juego y la clasificación de los cinco caracteres de la palabra propuesta. La función debe devolver una lista con las palabras que cumplen con las reglas de la clasificación.\n",
        "\n",
        "Veamos un ejemplo. Supongamos que tenemos la lista de palabras ['ANDES','BOTAS','ENOJO','FALTA'] y la palabra propuesta fue 'TALON'. Además, para la palabra 'TALON', la clasificación de los caracteres fue 'avvgg'. Esta clasificación significa que:\n",
        "\n",
        "\n",
        "*   La letra 'T' está en la palabra oculta, pero no en la primera posición\n",
        "*   La letra 'A' está en la palabra oculta y en la segunda posición\n",
        "*   La letra 'L' está en la palabra oculta y en la tercera posición\n",
        "*   La letra 'O' no está en la palabra oculta\n",
        "*   La letra 'N' no está en la palabra oculta\n",
        "\n",
        "La función ``filtra`` debería retornar la lista ['FALTA']. Esto es debido a que:\n",
        "\n",
        "*   La palabra 'ANDES' no contiene la letra 'tT', y no tiene 'A' y 'L' en la segunda y tercera posición, respectivamente. Además la letra 'N' no es parte de la solución.\n",
        "*   La palabra 'BOTAS' no tiene la letra 'A' y 'L' en la segunda y tercera posición, respectivamente.\n",
        "*   La palabra 'ENOJO' no contiene la letra 'T', y no tiene la letra 'A' y 'L' en la segunda y tercera posición, respectivamente. Además la letra 'N' no es parte de la solución.\n",
        "\n",
        "La palabra 'FALTA' sí cumple con todas las restricciones de la clasificación: Contiene la letra 'T', contiene las letras 'A' y 'L' en las posiciones correctas, y no contiene las letras 'O' y 'N'."
      ],
      "metadata": {
        "id": "EAgQbe2WQx6i"
      }
    },
    {
      "cell_type": "code",
      "source": [
        "def filtra(lista,guess,tf):\n",
        "  # lista: es la lista de palabras\n",
        "  # guess: es la palabra propuesta por el usuario\n",
        "  # tf: es la clasificación de los cinco caracteres de la palabra propuesta\n",
        "\n",
        "  # retorna la lista de palabras que cumplen con el criterio indicado en tf\n",
        "  pass"
      ],
      "metadata": {
        "id": "8NQW_HzCSA0g"
      },
      "execution_count": null,
      "outputs": []
    },
    {
      "cell_type": "markdown",
      "source": [
        "Todas estas funciones son usadas en la implementación del juego.\n",
        "\n",
        "Usted debe implementar una función\n",
        "\n",
        "``jugar(enigma,L=[])``\n",
        "\n",
        "que al ser ejecutada con la variable 'enigma' conteniendo la palabra oculta, lea desde el teclado los sucesivos intentos del usuario, verificando en cada caso que ese intento sea una palabra válida (o sea, que esté en la lista), le dé al usuario el resultado de su intento (en la forma del cuadro de colores) y lleve la cuenta del número de intentos, para que no se sobrepase el límite de 6. Después de cada intento, la lista de palabras se debe filtrar eliminando todas las que no son compatibles con el resultado de los intentos anteriores.\n",
        "\n",
        "El comportamiento anterior es el usual y corresponde al caso en que el parámetro ``L`` se omite o es una lista vacía. Si ``L`` es una lista no vacía, la función jugar debe tomar los intentos desde esa lista en lugar del teclado. Esto último es para poder facilitar la depuración y después la corrección por parte del ayudante.\n",
        "\n",
        "Su programa no debe distinguir entre mayúsculas y minúsculas. Para esto, usted debe subir a mayúsculas todas las letras de cada palabra propuesta como intento de solución.\n"
      ],
      "metadata": {
        "id": "hkxXRkguSQAx"
      }
    },
    {
      "cell_type": "code",
      "source": [
        "def jugar(enigma,L=[]):\n",
        "  # Implementa un juego de Wordle\n",
        "  pass\n"
      ],
      "metadata": {
        "id": "QPeM8evuYfuI"
      },
      "execution_count": null,
      "outputs": []
    },
    {
      "cell_type": "markdown",
      "source": [
        "# Prueba del programa\n",
        "\n",
        "A continuación ejecute los siguientes casos de prueba, en los cuales se usa la lista L para los intentos."
      ],
      "metadata": {
        "id": "IrIbXQkhXjTq"
      }
    },
    {
      "cell_type": "code",
      "source": [
        "# Prueba 1 (caso exito)\n",
        "jugar(\"GRIPE\",[\"CREAN\",\"ERIZO\",\"PRIVE\",\"GRITE\",\"GRIPE\"])"
      ],
      "metadata": {
        "id": "cj9ChppfXucR"
      },
      "execution_count": null,
      "outputs": []
    },
    {
      "cell_type": "code",
      "source": [
        "# Prueba 2 (caso fracaso)\n",
        "jugar(\"ZAFAR\",[\"BAJAR\",\"CATAR\",\"DAÑAR\",\"GANAR\",\"LAVAR\",\"PARAR\"])"
      ],
      "metadata": {
        "id": "kVbb7pesXwqZ"
      },
      "execution_count": null,
      "outputs": []
    },
    {
      "cell_type": "code",
      "source": [
        "# Prueba 3 (otro caso exitoso)\n",
        "jugar(\"EPOCA\",[\"AUDIO\",\"MORAL\",\"TAZON\",\"OBESA\",\"EVOCA\",\"EPOCA\"])"
      ],
      "metadata": {
        "id": "oO6YAvxqZ60B"
      },
      "execution_count": null,
      "outputs": []
    },
    {
      "cell_type": "markdown",
      "source": [
        "A continuación el programa se prueba en forma interactiva:"
      ],
      "metadata": {
        "id": "5OFck_P0X2c-"
      }
    },
    {
      "cell_type": "code",
      "source": [
        "from random import randint\n",
        "\n",
        "i = randint(0,len(palabras_posibles)-1) #Se escoge una palabra como la palabra oculta\n",
        "enigma = palabras_posibles[i]\n",
        "jugar(enigma)"
      ],
      "metadata": {
        "id": "OX3pz_9HYAoK"
      },
      "execution_count": null,
      "outputs": []
    },
    {
      "cell_type": "markdown",
      "source": [
        "## ¿Qué hay que entregar?\n",
        "\n",
        "Usted debe crear una copia de este documento (del menú seleccionar \"Archivo\" o \"File\" y de ahi la opción \"guardar copia en Drive\" o \"save a copy in Drive\"). Este nuevo documento (notebook de Colab) es el que debe modificar para luego compartirlo con la opción \"Cualquier usuario de internet con este enlace puede ver esto\" (o “Anyone on the internet with this link can view”). Esta opción se encuentra disponible en la parte superior derecha de su notebook, en el botón \"Compartir\" (o \"Share\"). Una vez que tenga disponible el enlace, colocarlo en la descripción de la entrega de su tarea. No olvide colocar su nombre dentro del notebook."
      ],
      "metadata": {
        "id": "kTFnyLnlwc-E"
      }
    }
  ]
}